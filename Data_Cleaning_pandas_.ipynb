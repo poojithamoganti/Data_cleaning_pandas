{
  "nbformat": 4,
  "nbformat_minor": 0,
  "metadata": {
    "colab": {
      "provenance": []
    },
    "kernelspec": {
      "name": "python3",
      "display_name": "Python 3"
    },
    "language_info": {
      "name": "python"
    }
  },
  "cells": [
    {
      "cell_type": "code",
      "source": [
        "import pandas as pd\n"
      ],
      "metadata": {
        "id": "z_3YsWnJBS2r"
      },
      "execution_count": 35,
      "outputs": []
    },
    {
      "cell_type": "markdown",
      "source": [
        "Creating a smaple dataset with missing/incorrect data"
      ],
      "metadata": {
        "id": "mfUIr6OdBirj"
      }
    },
    {
      "cell_type": "code",
      "source": [
        "data = {\n",
        "    'Name' : ['Alex' ,'Ben', None , 'David', 'Elenor', 'Ben'],\n",
        "    'Age' : ['24','45','31',None,'56','45'],\n",
        "    'City': [None, 'Chicago' , 'Virginia', 'Charlotte','New York','Chicago']\n",
        "}"
      ],
      "metadata": {
        "id": "xqNg_k8GBWfj"
      },
      "execution_count": 36,
      "outputs": []
    },
    {
      "cell_type": "code",
      "source": [
        "df = pd.DataFrame(data)"
      ],
      "metadata": {
        "id": "ENdCTSSABgmQ"
      },
      "execution_count": 37,
      "outputs": []
    },
    {
      "cell_type": "markdown",
      "source": [
        "Display Orginal Dataset"
      ],
      "metadata": {
        "id": "CjpL03FjCshu"
      }
    },
    {
      "cell_type": "code",
      "source": [
        "print(\"Orginal Dataset: \")\n",
        "print(df)"
      ],
      "metadata": {
        "colab": {
          "base_uri": "https://localhost:8080/"
        },
        "id": "Cw4eAITcCqvG",
        "outputId": "2b351b0f-8701-4a8c-9117-89505199688d"
      },
      "execution_count": 38,
      "outputs": [
        {
          "output_type": "stream",
          "name": "stdout",
          "text": [
            "Orginal Dataset: \n",
            "     Name   Age       City\n",
            "0    Alex    24       None\n",
            "1     Ben    45    Chicago\n",
            "2    None    31   Virginia\n",
            "3   David  None  Charlotte\n",
            "4  Elenor    56   New York\n",
            "5     Ben    45    Chicago\n"
          ]
        }
      ]
    },
    {
      "cell_type": "markdown",
      "source": [
        "Data Cleaning by Handling Missing Values :\n",
        "Drop the missing values\n",
        "\n",
        "\n"
      ],
      "metadata": {
        "id": "TB9bDCRkC-OC"
      }
    },
    {
      "cell_type": "code",
      "source": [
        "df_cleaned = df.dropna()"
      ],
      "metadata": {
        "id": "yU44jp2CC6ea"
      },
      "execution_count": 39,
      "outputs": []
    },
    {
      "cell_type": "markdown",
      "source": [
        "Display Cleaned Dataset after handling missing values"
      ],
      "metadata": {
        "id": "_RB2BTxcDWlL"
      }
    },
    {
      "cell_type": "code",
      "source": [
        "print(\"Cleaned Dataset: \")\n",
        "print(df_cleaned)"
      ],
      "metadata": {
        "colab": {
          "base_uri": "https://localhost:8080/"
        },
        "id": "rIrlBHCJDVqh",
        "outputId": "80d70339-2eb0-4086-8d66-5efa5c22916b"
      },
      "execution_count": 40,
      "outputs": [
        {
          "output_type": "stream",
          "name": "stdout",
          "text": [
            "Cleaned Dataset: \n",
            "     Name Age      City\n",
            "1     Ben  45   Chicago\n",
            "4  Elenor  56  New York\n",
            "5     Ben  45   Chicago\n"
          ]
        }
      ]
    },
    {
      "cell_type": "markdown",
      "source": [
        "Here the important data is been dropped, by eleminating missing values. We can use Filling values with mean, median, Forward fill or backword fill based on specific charestistics of data"
      ],
      "metadata": {
        "id": "gSrbRi-CER9r"
      }
    },
    {
      "cell_type": "code",
      "source": [
        "df.fillna(method='ffill', inplace=True)\n",
        "print(\"Dataset after Forward Fill\")\n",
        "print(df)"
      ],
      "metadata": {
        "colab": {
          "base_uri": "https://localhost:8080/"
        },
        "id": "hpbqOFQeFPb0",
        "outputId": "370d33f7-240c-43e9-cf31-4b8f07eaddd6"
      },
      "execution_count": 41,
      "outputs": [
        {
          "output_type": "stream",
          "name": "stdout",
          "text": [
            "Dataset after Forward Fill\n",
            "     Name Age       City\n",
            "0    Alex  24       None\n",
            "1     Ben  45    Chicago\n",
            "2     Ben  31   Virginia\n",
            "3   David  31  Charlotte\n",
            "4  Elenor  56   New York\n",
            "5     Ben  45    Chicago\n"
          ]
        }
      ]
    },
    {
      "cell_type": "code",
      "source": [
        "df.fillna(method='bfill', inplace=True)\n",
        "print(\"Dataset after Backward Fill\")\n",
        "print(df)"
      ],
      "metadata": {
        "colab": {
          "base_uri": "https://localhost:8080/"
        },
        "id": "Bx9Vmcr_GBnu",
        "outputId": "caa45c34-e42b-4e2d-f9d4-4e6c167d46a2"
      },
      "execution_count": 42,
      "outputs": [
        {
          "output_type": "stream",
          "name": "stdout",
          "text": [
            "Dataset after Backward Fill\n",
            "     Name Age       City\n",
            "0    Alex  24    Chicago\n",
            "1     Ben  45    Chicago\n",
            "2     Ben  31   Virginia\n",
            "3   David  31  Charlotte\n",
            "4  Elenor  56   New York\n",
            "5     Ben  45    Chicago\n"
          ]
        }
      ]
    },
    {
      "cell_type": "code",
      "source": [
        "df['Age'].fillna(df['Age'].mean(), inplace=True)\n",
        "print(\"Dataset after Filling Age with mean\")\n",
        "print(df)"
      ],
      "metadata": {
        "colab": {
          "base_uri": "https://localhost:8080/"
        },
        "id": "HR5LcggBGt_H",
        "outputId": "d31fe4e0-c02b-48e2-b07a-ba0871822855"
      },
      "execution_count": 43,
      "outputs": [
        {
          "output_type": "stream",
          "name": "stdout",
          "text": [
            "Dataset after Filling Age with mean\n",
            "     Name Age       City\n",
            "0    Alex  24    Chicago\n",
            "1     Ben  45    Chicago\n",
            "2     Ben  31   Virginia\n",
            "3   David  31  Charlotte\n",
            "4  Elenor  56   New York\n",
            "5     Ben  45    Chicago\n"
          ]
        }
      ]
    },
    {
      "cell_type": "markdown",
      "source": [
        "Drop duplicate rows based on all columns"
      ],
      "metadata": {
        "id": "X3G48advHAZq"
      }
    },
    {
      "cell_type": "code",
      "source": [
        "df_no_duplicate = df.drop_duplicates()\n",
        "print(\"Dataset after Removing duplicates:\")\n",
        "print(df_no_duplicate)"
      ],
      "metadata": {
        "colab": {
          "base_uri": "https://localhost:8080/"
        },
        "id": "43tjcSuPHJFO",
        "outputId": "8e3cd5a7-bdbe-44fc-8812-253420a43514"
      },
      "execution_count": 44,
      "outputs": [
        {
          "output_type": "stream",
          "name": "stdout",
          "text": [
            "Dataset after Removing duplicates:\n",
            "     Name Age       City\n",
            "0    Alex  24    Chicago\n",
            "1     Ben  45    Chicago\n",
            "2     Ben  31   Virginia\n",
            "3   David  31  Charlotte\n",
            "4  Elenor  56   New York\n"
          ]
        }
      ]
    }
  ]
}